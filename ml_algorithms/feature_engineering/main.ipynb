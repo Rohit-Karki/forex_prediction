{
 "cells": [
  {
   "cell_type": "code",
   "execution_count": 54,
   "id": "a7318b89",
   "metadata": {},
   "outputs": [],
   "source": [
    "from sklearn.ensemble import RandomForestRegressor\n",
    "from sklearn.metrics import mean_absolute_error, mean_squared_error\n",
    "from sklearn.model_selection import train_test_split\n",
    "import matplotlib.pyplot as plt"
   ]
  },
  {
   "cell_type": "code",
   "execution_count": 42,
   "id": "e420d5ab",
   "metadata": {},
   "outputs": [
    {
     "name": "stdout",
     "output_type": "stream",
     "text": [
      "+---+----------+------------+-----------+\n",
      "| id|      date|published_on|modified_on|\n",
      "+---+----------+------------+-----------+\n",
      "|  1|2022-01-01|  2022-01-01| 2021-12-31|\n",
      "|  2|2022-01-02|  2022-01-02| 2021-12-31|\n",
      "+---+----------+------------+-----------+\n",
      "only showing top 2 rows\n",
      "\n",
      "+---+-------------+-------------+------------+-------------+--------+---------+\n",
      "| id|forex_date_id|currency_name|currency_iso|currency_unit|buy_rate|sell_rate|\n",
      "+---+-------------+-------------+------------+-------------+--------+---------+\n",
      "|  1|            1| Indian Rupee|         INR|          100|   160.0|   160.15|\n",
      "|  2|            1|  U.S. Dollar|         USD|            1|  118.64|   119.24|\n",
      "+---+-------------+-------------+------------+-------------+--------+---------+\n",
      "only showing top 2 rows\n",
      "\n"
     ]
    }
   ],
   "source": [
    "from pyspark.sql import SparkSession\n",
    "\n",
    "spark = SparkSession.builder \\\n",
    "    .appName(\"ReadFromMySQLForexdb\") \\\n",
    "    .config(\"spark.jars.packages\", \"mysql:mysql-connector-java:8.0.33\") \\\n",
    "    .getOrCreate()\n",
    "\n",
    "jdbc_url = \"jdbc:mysql://localhost:3306/forex_db\"\n",
    "forex_dates_table = \"forex_dates\"\n",
    "forex_rates_table = \"forex_rates\"\n",
    "properties = {\n",
    "    \"user\": \"root\",\n",
    "    \"password\": \"rootpassword\",\n",
    "    \"driver\": \"com.mysql.cj.jdbc.Driver\"\n",
    "}\n",
    "\n",
    "forex_dates_df = spark.read.jdbc(url=jdbc_url, table=forex_dates_table, properties=properties)\n",
    "forex_rates_df = spark.read.jdbc(url=jdbc_url, table=forex_rates_table, properties=properties)\n",
    "forex_dates_df.show(2)\n",
    "forex_rates_df.show(2)\n",
    "\n",
    "\n",
    "data_df = forex_dates_df.join(forex_rates_df.drop(\"id\"), forex_dates_df.id == forex_rates_df.forex_date_id,how=\"inner\").orderBy(forex_rates_df.currency_iso)\n",
    "# data_df.drop(forex_rates_df.id)"
   ]
  },
  {
   "cell_type": "code",
   "execution_count": 85,
   "id": "ae46bee2",
   "metadata": {},
   "outputs": [],
   "source": [
    "from pyspark.sql.window import Window\n",
    "import pyspark.sql.functions as F"
   ]
  },
  {
   "cell_type": "code",
   "execution_count": 86,
   "id": "2611c9f0",
   "metadata": {},
   "outputs": [
    {
     "name": "stdout",
     "output_type": "stream",
     "text": [
      "+----+----------+------------+-----------+-------------+-------------+------------+-------------+--------+---------+\n",
      "|  id|      date|published_on|modified_on|forex_date_id|currency_name|currency_iso|currency_unit|buy_rate|sell_rate|\n",
      "+----+----------+------------+-----------+-------------+-------------+------------+-------------+--------+---------+\n",
      "| 148|2022-05-28|  2022-05-28| 2022-05-27|          148|  U.S. Dollar|         USD|            1|  123.81|   124.41|\n",
      "| 463|2023-04-08|  2023-04-08| 2023-04-07|          463|  U.S. Dollar|         USD|            1|  130.72|   131.32|\n",
      "| 471|2023-04-16|  2023-04-16| 2023-04-14|          471|  U.S. Dollar|         USD|            1|  130.67|   131.27|\n",
      "| 496|2023-05-11|  2023-05-11| 2023-05-10|          496|  U.S. Dollar|         USD|            1|  130.88|   131.48|\n",
      "| 833|2024-04-12|  2024-04-12| 2024-04-11|          833|  U.S. Dollar|         USD|            1|   132.8|    133.4|\n",
      "|1088|2024-12-23|  2024-12-23| 2024-12-22|         1088|  U.S. Dollar|         USD|            1|  135.73|   136.33|\n",
      "|1238|2025-05-22|  2025-05-22| 2025-05-21|         1238|  U.S. Dollar|         USD|            1|  136.73|   137.33|\n",
      "| 243|2022-08-31|  2022-08-31| 2022-08-31|          243|  U.S. Dollar|         USD|            1|  126.83|   127.43|\n",
      "| 392|2023-01-27|  2023-01-27| 2023-01-26|          392|  U.S. Dollar|         USD|            1|  130.25|   130.85|\n",
      "| 540|2023-06-24|  2023-06-24| 2023-06-23|          540|  U.S. Dollar|         USD|            1|  130.96|   131.56|\n",
      "+----+----------+------------+-----------+-------------+-------------+------------+-------------+--------+---------+\n",
      "only showing top 10 rows\n",
      "\n"
     ]
    }
   ],
   "source": [
    "data_df = data_df.filter(data_df[\"currency_iso\"]==\"USD\")\n",
    "data_df.show(10)"
   ]
  },
  {
   "cell_type": "code",
   "execution_count": 96,
   "id": "734b7872",
   "metadata": {},
   "outputs": [
    {
     "name": "stdout",
     "output_type": "stream",
     "text": [
      "+----------+------------+-----------+-------------+-------------+------------+-------------+--------+---------+----+-----+---+---------+----------+-------------+-------------+--------------------+--------------------+--------------------+-------------------+------------------+--------------------+\n",
      "|      date|published_on|modified_on|forex_date_id|currency_name|currency_iso|currency_unit|buy_rate|sell_rate|year|month|day|dayofweek|is_weekend|buy_rate_lag1|buy_rate_lag7|      buy_rate_diff1|      buy_rate_diff7|buy_rate_roll_mean_3|buy_rate_roll_std_3|            spread| buy_rate_pct_change|\n",
      "+----------+------------+-----------+-------------+-------------+------------+-------------+--------+---------+----+-----+---+---------+----------+-------------+-------------+--------------------+--------------------+--------------------+-------------------+------------------+--------------------+\n",
      "|2022-01-01|  2022-01-01| 2021-12-31|            1|  U.S. Dollar|         USD|            1|  118.64|   119.24|2022|    1|  1|        7|         1|         null|         null|                null|                null|              118.64|               null|0.5999999999999943|                null|\n",
      "|2022-01-02|  2022-01-02| 2021-12-31|            2|  U.S. Dollar|         USD|            1|  118.64|   119.24|2022|    1|  2|        1|         1|       118.64|         null|                 0.0|                null|              118.64|                0.0|0.5999999999999943|                 0.0|\n",
      "|2022-01-03|  2022-01-03| 2022-01-02|            3|  U.S. Dollar|         USD|            1|  118.64|   119.24|2022|    1|  3|        2|         0|       118.64|         null|                 0.0|                null|              118.64|                0.0|0.5999999999999943|                 0.0|\n",
      "|2022-01-04|  2022-01-04| 2022-01-03|            4|  U.S. Dollar|         USD|            1|  118.52|   119.12|2022|    1|  4|        3|         0|       118.64|         null|-0.12000000000000455|                null|  118.60000000000001|0.06928203230275773|0.6000000000000085|-0.10114632501686156|\n",
      "|2022-01-05|  2022-01-05| 2022-01-04|            5|  U.S. Dollar|         USD|            1|  118.99|   119.59|2022|    1|  5|        4|         0|       118.52|         null| 0.46999999999999886|                null|  118.71666666666665|0.24419937209856352|0.6000000000000085| 0.39655754303071117|\n",
      "|2022-01-06|  2022-01-06| 2022-01-05|            6|  U.S. Dollar|         USD|            1|  118.68|   119.28|2022|    1|  6|        5|         0|       118.99|         null|-0.30999999999998806|                null|              118.73|0.23895606290696866|0.5999999999999943| -0.2605260946297908|\n",
      "|2022-01-07|  2022-01-07| 2022-01-06|            7|  U.S. Dollar|         USD|            1|  118.89|   119.49|2022|    1|  7|        6|         0|       118.68|         null| 0.20999999999999375|                null|  118.85333333333334|0.15821925715073754|0.5999999999999943| 0.17694641051566712|\n",
      "|2022-01-08|  2022-01-08| 2022-01-07|            8|  U.S. Dollar|         USD|            1|   118.6|    119.2|2022|    1|  8|        7|         1|       118.89|       118.64|-0.29000000000000625|-0.04000000000000625|  118.72333333333331|0.14977761292440522|0.6000000000000085|-0.24392295399108943|\n",
      "|2022-01-09|  2022-01-09| 2022-01-07|            9|  U.S. Dollar|         USD|            1|   118.6|    119.2|2022|    1|  9|        1|         1|        118.6|       118.64|                 0.0|-0.04000000000000625|  118.69666666666667|0.16743157806499712|0.6000000000000085|                 0.0|\n",
      "|2022-01-10|  2022-01-10| 2022-01-09|           10|  U.S. Dollar|         USD|            1|   118.6|    119.2|2022|    1| 10|        2|         0|        118.6|       118.64|                 0.0|-0.04000000000000625|  118.59999999999998|                0.0|0.6000000000000085|                 0.0|\n",
      "+----------+------------+-----------+-------------+-------------+------------+-------------+--------+---------+----+-----+---+---------+----------+-------------+-------------+--------------------+--------------------+--------------------+-------------------+------------------+--------------------+\n",
      "only showing top 10 rows\n",
      "\n"
     ]
    }
   ],
   "source": [
    "df = data_df.withColumn(\"year\", F.year(\"date\")) \\\n",
    "       .withColumn(\"month\", F.month(\"date\")) \\\n",
    "       .withColumn(\"day\", F.dayofmonth(\"date\")) \\\n",
    "       .withColumn(\"dayofweek\", F.dayofweek(\"date\")) \\\n",
    "       .withColumn(\"is_weekend\", F.when(F.dayofweek(\"date\").isin([1, 7]), 1).otherwise(0))\n",
    "\n",
    "\n",
    "window = Window.partitionBy(\"currency_iso\").orderBy(\"date\")\n",
    "\n",
    "df = df.withColumn(\"buy_rate_lag1\", F.lag(\"buy_rate\", 1).over(window)) \\\n",
    "       .withColumn(\"buy_rate_lag7\", F.lag(\"buy_rate\", 7).over(window)) \\\n",
    "       .withColumn(\"buy_rate_diff1\", F.col(\"buy_rate\") - F.col(\"buy_rate_lag1\")) \\\n",
    "       .withColumn(\"buy_rate_diff7\", F.col(\"buy_rate\") - F.col(\"buy_rate_lag7\"))\n",
    "\n",
    "df = df.withColumn(\"buy_rate_roll_mean_3\", F.avg(\"buy_rate\").over(window.rowsBetween(-2, 0))) \\\n",
    "        .withColumn(\"buy_rate_roll_std_3\", F.stddev(\"buy_rate\").over(window.rowsBetween(-2, 0)))\n",
    "\n",
    "df = df.withColumn(\"spread\", F.col(\"sell_rate\") - F.col(\"buy_rate\"))\n",
    "df = df.withColumn(\"buy_rate_pct_change\", \n",
    "                   ((F.col(\"buy_rate\") - F.col(\"buy_rate_lag1\")) / F.col(\"buy_rate_lag1\")) * 100)\n",
    "df = df.drop(forex_dates_df.id)\n",
    "\n",
    "\n",
    "df.show(10)"
   ]
  },
  {
   "cell_type": "code",
   "execution_count": 88,
   "id": "1264c012",
   "metadata": {},
   "outputs": [
    {
     "name": "stdout",
     "output_type": "stream",
     "text": [
      "['date', 'published_on', 'modified_on', 'forex_date_id', 'currency_name', 'currency_iso', 'currency_unit', 'buy_rate', 'sell_rate', 'year', 'month', 'day', 'dayofweek', 'is_weekend', 'buy_rate_lag1', 'buy_rate_lag7', 'buy_rate_diff1', 'buy_rate_diff7', 'buy_rate_roll_mean_3', 'buy_rate_roll_std_3', 'spread', 'buy_rate_pct_change']\n"
     ]
    }
   ],
   "source": [
    "print(df.columns)"
   ]
  },
  {
   "cell_type": "code",
   "execution_count": null,
   "id": "9e0256bb",
   "metadata": {},
   "outputs": [],
   "source": [
    "feature_cols = [\n",
    "    'year', 'month', 'day', 'dayofweek', 'is_weekend',\n",
    "    'buy_rate_lag1', 'buy_rate_lag7',\n",
    "    'buy_rate_roll_mean_3', 'buy_rate_roll_std_3',\n",
    "    'buy_rate_diff1', 'buy_rate_diff7',\n",
    "    'spread', 'buy_rate_pct_change'\n",
    "]\n",
    "\n",
    "df = df.toPandas()\n",
    "\n",
    "df['target_buy_rate'] = df['buy_rate'].shift(-1) \n",
    "\n",
    "for lag in [1, 2, 3, 5, 7, 14]:\n",
    "    df[f'buy_rate_lag{lag}'] = df['buy_rate'].shift(lag)\n",
    "\n",
    "\n",
    "df = df.dropna().reset_index(drop=True)\n",
    "\n",
    "X = df[feature_cols]\n",
    "y = df['target_buy_rate']"
   ]
  },
  {
   "cell_type": "code",
   "execution_count": null,
   "id": "c95d6536",
   "metadata": {},
   "outputs": [],
   "source": [
    "spark.stop()"
   ]
  }
 ],
 "metadata": {
  "kernelspec": {
   "display_name": "Python 3",
   "language": "python",
   "name": "python3"
  },
  "language_info": {
   "codemirror_mode": {
    "name": "ipython",
    "version": 3
   },
   "file_extension": ".py",
   "mimetype": "text/x-python",
   "name": "python",
   "nbconvert_exporter": "python",
   "pygments_lexer": "ipython3",
   "version": "3.10.12"
  }
 },
 "nbformat": 4,
 "nbformat_minor": 5
}
